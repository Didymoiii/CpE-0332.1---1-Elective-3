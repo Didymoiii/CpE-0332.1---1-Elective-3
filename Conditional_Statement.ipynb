{
  "nbformat": 4,
  "nbformat_minor": 0,
  "metadata": {
    "colab": {
      "provenance": [],
      "authorship_tag": "ABX9TyNhcwARkYLDEpdrCqFVB+rc",
      "include_colab_link": true
    },
    "kernelspec": {
      "name": "python3",
      "display_name": "Python 3"
    },
    "language_info": {
      "name": "python"
    }
  },
  "cells": [
    {
      "cell_type": "markdown",
      "metadata": {
        "id": "view-in-github",
        "colab_type": "text"
      },
      "source": [
        "<a href=\"https://colab.research.google.com/github/Ed-VirMercado/CpE-0332.1---1-Elective-3/blob/main/Conditional_Statement.ipynb\" target=\"_parent\"><img src=\"https://colab.research.google.com/assets/colab-badge.svg\" alt=\"Open In Colab\"/></a>"
      ]
    },
    {
      "cell_type": "markdown",
      "source": [
        "If Statement"
      ],
      "metadata": {
        "id": "gJmewRBmCOFs"
      }
    },
    {
      "cell_type": "code",
      "source": [
        "a = 12\n",
        "b = 100\n",
        "\n",
        "if a < b:\n",
        "  print(\"a is less than b\")"
      ],
      "metadata": {
        "colab": {
          "base_uri": "https://localhost:8080/"
        },
        "id": "o5HG985PCRsu",
        "outputId": "2ecc183e-2593-4990-b124-b0676937c64a"
      },
      "execution_count": 4,
      "outputs": [
        {
          "output_type": "stream",
          "name": "stdout",
          "text": [
            "a is less than b\n"
          ]
        }
      ]
    },
    {
      "cell_type": "markdown",
      "source": [
        "Elif Statement"
      ],
      "metadata": {
        "id": "buJ9sK64Cnmo"
      }
    },
    {
      "cell_type": "code",
      "source": [
        "age = int(input(\"How old are you? \"))\n",
        "\n",
        "if age >= 18:\n",
        "  print(\"You are qualified to get a license\")\n",
        "elif age < 18:\n",
        "  print(\"You are not qualified to get a license\")"
      ],
      "metadata": {
        "colab": {
          "base_uri": "https://localhost:8080/"
        },
        "id": "usnfvGaUCpM2",
        "outputId": "60936e10-0721-42a9-e21f-70c2d1d93fe1"
      },
      "execution_count": 8,
      "outputs": [
        {
          "output_type": "stream",
          "name": "stdout",
          "text": [
            "How old are you? 15\n",
            "You are not qualified to get a license\n"
          ]
        }
      ]
    },
    {
      "cell_type": "markdown",
      "source": [
        "Else Statement"
      ],
      "metadata": {
        "id": "rW8yx-8DEnbv"
      }
    },
    {
      "cell_type": "code",
      "source": [
        "x = int(input(\"Enter an integer: \"))\n",
        "\n",
        "if x > 0:\n",
        "  print(\"x is positive\")\n",
        "elif x < 0:\n",
        "  print(\"x is negative\")\n",
        "else:\n",
        "  print(\"x is zero\")"
      ],
      "metadata": {
        "colab": {
          "base_uri": "https://localhost:8080/"
        },
        "id": "1SE1XAFKEogo",
        "outputId": "60b12129-714d-468b-ce71-fa26b4828d82"
      },
      "execution_count": 10,
      "outputs": [
        {
          "output_type": "stream",
          "name": "stdout",
          "text": [
            "Enter an integer: 21\n",
            "x is positive\n"
          ]
        }
      ]
    },
    {
      "cell_type": "markdown",
      "source": [
        "Short-hand If Statement"
      ],
      "metadata": {
        "id": "qq5glw4yFUBM"
      }
    },
    {
      "cell_type": "code",
      "source": [
        "if a < b: print(\"a is less than b\")"
      ],
      "metadata": {
        "colab": {
          "base_uri": "https://localhost:8080/"
        },
        "id": "wg3UkYZPFVqJ",
        "outputId": "30dab77a-5ed1-4b03-ee06-02a28644b6cb"
      },
      "execution_count": 11,
      "outputs": [
        {
          "output_type": "stream",
          "name": "stdout",
          "text": [
            "a is less than b\n"
          ]
        }
      ]
    },
    {
      "cell_type": "markdown",
      "source": [
        "Short-hand If..Else Statement"
      ],
      "metadata": {
        "id": "q-cPQ-h9F8Yl"
      }
    },
    {
      "cell_type": "code",
      "source": [
        "print(\"a is less than b\") if a > b else print(\"b is greater than a\")"
      ],
      "metadata": {
        "colab": {
          "base_uri": "https://localhost:8080/"
        },
        "id": "8RC1CDSfF-ya",
        "outputId": "b5614616-d863-4eff-f927-c48674ae085b"
      },
      "execution_count": 14,
      "outputs": [
        {
          "output_type": "stream",
          "name": "stdout",
          "text": [
            "b is greater than a\n"
          ]
        }
      ]
    },
    {
      "cell_type": "markdown",
      "source": [
        "And Statement"
      ],
      "metadata": {
        "id": "s0Pu5zwkGdJM"
      }
    },
    {
      "cell_type": "code",
      "source": [
        "c = 500\n",
        "\n",
        "if a < b and c > a:\n",
        "  print(\"Both conditions are True\")"
      ],
      "metadata": {
        "colab": {
          "base_uri": "https://localhost:8080/"
        },
        "id": "b2K4OcFrGhD9",
        "outputId": "da7115f4-7974-4309-b957-834dbb3d75ae"
      },
      "execution_count": 16,
      "outputs": [
        {
          "output_type": "stream",
          "name": "stdout",
          "text": [
            "Both conditions are True\n"
          ]
        }
      ]
    },
    {
      "cell_type": "markdown",
      "source": [
        "Or Statement"
      ],
      "metadata": {
        "id": "j2pXmgg-HFJn"
      }
    },
    {
      "cell_type": "code",
      "source": [
        "if a < b or c > a:\n",
        "  print(\"At least one of the conditions is True\")"
      ],
      "metadata": {
        "colab": {
          "base_uri": "https://localhost:8080/"
        },
        "id": "O4M89_clHGq1",
        "outputId": "ec871836-fe8a-44ab-a8c2-05dbf3f4a28a"
      },
      "execution_count": 18,
      "outputs": [
        {
          "output_type": "stream",
          "name": "stdout",
          "text": [
            "At least one of the conditions is True\n"
          ]
        }
      ]
    },
    {
      "cell_type": "markdown",
      "source": [
        "Nested If"
      ],
      "metadata": {
        "id": "yCI50qevHQTx"
      }
    },
    {
      "cell_type": "code",
      "source": [
        "x = int(input(\"Enter an integer: \"))\n",
        "\n",
        "if x > 10:\n",
        "  print(\"\\nAbove 10\")\n",
        "  if x > 20:\n",
        "    print(\"and also above 20!\")\n",
        "    if x > 30:\n",
        "      print(\"and also above 30!\")\n",
        "      if x > 40:\n",
        "        print(\"and also above 40!\")\n",
        "        if x > 50:\n",
        "          print(\"and also above 50!\")\n",
        "      else:\n",
        "        print(\"but not above 40.\")"
      ],
      "metadata": {
        "colab": {
          "base_uri": "https://localhost:8080/"
        },
        "id": "gI6j3nLfHR26",
        "outputId": "a9630b62-e6e1-48ea-e05c-f808af54088d"
      },
      "execution_count": 28,
      "outputs": [
        {
          "output_type": "stream",
          "name": "stdout",
          "text": [
            "Enter an integer: 16\n",
            "\n",
            "Above 10\n"
          ]
        }
      ]
    },
    {
      "cell_type": "markdown",
      "source": [
        "Try"
      ],
      "metadata": {
        "id": "bxEmu_oBK6kT"
      }
    },
    {
      "cell_type": "code",
      "source": [
        "y = int(input(\"Enter an integer: \"))\n",
        "\n",
        "if y >= 10 and y < 20:\n",
        "  print(\"\\nAbove 10 and below 20\")"
      ],
      "metadata": {
        "colab": {
          "base_uri": "https://localhost:8080/"
        },
        "id": "DHGvFdw6KZIH",
        "outputId": "b2f2c2ef-87ec-45d4-ccfc-57fc51711d82"
      },
      "execution_count": 30,
      "outputs": [
        {
          "output_type": "stream",
          "name": "stdout",
          "text": [
            "Enter an integer: 16\n",
            "\n",
            "Above 10 and below 20\n"
          ]
        }
      ]
    },
    {
      "cell_type": "markdown",
      "source": [
        "Application 2"
      ],
      "metadata": {
        "id": "f5JbzFfeLY1-"
      }
    },
    {
      "cell_type": "code",
      "source": [
        "#Write a program that determines\n",
        "#If grade >= 75, \"passed\"; grade = 74, \"remedial\"; grade < 74, \"failed\"; grade is negative, \"invalid\"\n",
        "\n",
        "grade = float(input(\"Enter your grade: \"))\n",
        "\n",
        "if grade < 0:\n",
        "  print(\"Invalid\")\n",
        "elif grade >= 74 and grade <= 100:\n",
        "  print(\"You passed. Cogratulations!\")\n",
        "elif grade == 74:\n",
        "  print(\"You must take remedial classes.\")\n",
        "elif grade < 74 and grade >= 0:\n",
        "  print(\"You failed.\")\n",
        "else:\n",
        "  print(\"Invalid\")"
      ],
      "metadata": {
        "colab": {
          "base_uri": "https://localhost:8080/"
        },
        "id": "w_p6D8BsLag0",
        "outputId": "4f848d23-badf-4db4-c0bf-45ea2c7fd7a5"
      },
      "execution_count": 51,
      "outputs": [
        {
          "output_type": "stream",
          "name": "stdout",
          "text": [
            "Enter your grade: 74.53\n",
            "You passed. Cogratulations!\n"
          ]
        }
      ]
    }
  ]
}