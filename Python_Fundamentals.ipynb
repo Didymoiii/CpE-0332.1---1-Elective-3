{
  "nbformat": 4,
  "nbformat_minor": 0,
  "metadata": {
    "colab": {
      "provenance": [],
      "authorship_tag": "ABX9TyOvthH5WUB/5Qwre6/fz7jK",
      "include_colab_link": true
    },
    "kernelspec": {
      "name": "python3",
      "display_name": "Python 3"
    },
    "language_info": {
      "name": "python"
    }
  },
  "cells": [
    {
      "cell_type": "markdown",
      "metadata": {
        "id": "view-in-github",
        "colab_type": "text"
      },
      "source": [
        "<a href=\"https://colab.research.google.com/github/Didymoiii/PLM-Elective-3-Lab/blob/main/Python_Fundamentals.ipynb\" target=\"_parent\"><img src=\"https://colab.research.google.com/assets/colab-badge.svg\" alt=\"Open In Colab\"/></a>"
      ]
    },
    {
      "cell_type": "markdown",
      "source": [
        "Python Indentation"
      ],
      "metadata": {
        "id": "fk-e46sxi20U"
      }
    },
    {
      "cell_type": "code",
      "source": [
        "x = 5\n",
        "y = 2\n",
        "\n",
        "if x > y:\n",
        "  print(\"Five is greater than two!\")"
      ],
      "metadata": {
        "colab": {
          "base_uri": "https://localhost:8080/"
        },
        "id": "8VU7fM9UjF64",
        "outputId": "6210017b-bc5a-4666-a78f-e5d4164e6da3"
      },
      "execution_count": null,
      "outputs": [
        {
          "output_type": "stream",
          "name": "stdout",
          "text": [
            "Five is greater than two!\n"
          ]
        }
      ]
    },
    {
      "cell_type": "markdown",
      "source": [
        "Python Comment"
      ],
      "metadata": {
        "id": "JWrqDWNxkea3"
      }
    },
    {
      "cell_type": "code",
      "source": [
        "print(\"Hello, World!\") #This is a comment"
      ],
      "metadata": {
        "colab": {
          "base_uri": "https://localhost:8080/"
        },
        "id": "UiMEzRh0kfht",
        "outputId": "40093254-7534-445f-c84c-f897463d9aa6"
      },
      "execution_count": null,
      "outputs": [
        {
          "output_type": "stream",
          "name": "stdout",
          "text": [
            "Hello, World!\n"
          ]
        }
      ]
    },
    {
      "cell_type": "markdown",
      "source": [
        "Python Variable"
      ],
      "metadata": {
        "id": "NpZBKu2Ykpvr"
      }
    },
    {
      "cell_type": "code",
      "source": [
        "z = 1\n",
        "z,s = 0,-1\n",
        "z,s,t = 8,9,10\n",
        "z\n",
        "s\n",
        "t"
      ],
      "metadata": {
        "colab": {
          "base_uri": "https://localhost:8080/"
        },
        "id": "rRAe35Rhkrva",
        "outputId": "55daf7bf-428e-4041-83c3-58685ba4aa5f"
      },
      "execution_count": null,
      "outputs": [
        {
          "output_type": "execute_result",
          "data": {
            "text/plain": [
              "10"
            ]
          },
          "metadata": {},
          "execution_count": 4
        }
      ]
    },
    {
      "cell_type": "markdown",
      "source": [
        "Casting"
      ],
      "metadata": {
        "id": "SpojOlBPmGFS"
      }
    },
    {
      "cell_type": "code",
      "source": [
        "b = \"Sally\" #This is a type of string\n",
        "#b = int(4)\n",
        "#print(b)\n",
        "\n",
        "b = float(4)\n",
        "print(b)"
      ],
      "metadata": {
        "colab": {
          "base_uri": "https://localhost:8080/"
        },
        "id": "NyOVRtuPmIO3",
        "outputId": "3152baaf-faed-4c20-9648-6d107aa8d856"
      },
      "execution_count": null,
      "outputs": [
        {
          "output_type": "stream",
          "name": "stdout",
          "text": [
            "4.0\n"
          ]
        }
      ]
    },
    {
      "cell_type": "markdown",
      "source": [
        "Type Function"
      ],
      "metadata": {
        "id": "s1ZRuokImT4p"
      }
    },
    {
      "cell_type": "code",
      "source": [
        "print(type(b))"
      ],
      "metadata": {
        "colab": {
          "base_uri": "https://localhost:8080/"
        },
        "id": "3ykAeZm1mVXg",
        "outputId": "848246b0-8155-448d-eabf-0b42f363af1c"
      },
      "execution_count": null,
      "outputs": [
        {
          "output_type": "stream",
          "name": "stdout",
          "text": [
            "<class 'float'>\n"
          ]
        }
      ]
    },
    {
      "cell_type": "markdown",
      "source": [
        "Double Quote and Single Quote"
      ],
      "metadata": {
        "id": "4ciyunktm78X"
      }
    },
    {
      "cell_type": "code",
      "source": [
        "w = \"Ana\"\n",
        "print(w)\n",
        "q = 'Ana'\n",
        "print(q)"
      ],
      "metadata": {
        "colab": {
          "base_uri": "https://localhost:8080/"
        },
        "id": "NoAlgjxanDqO",
        "outputId": "a294784a-78b2-4411-d736-45a0fff5dacf"
      },
      "execution_count": null,
      "outputs": [
        {
          "output_type": "stream",
          "name": "stdout",
          "text": [
            "Ana\n",
            "Ana\n"
          ]
        }
      ]
    },
    {
      "cell_type": "markdown",
      "source": [
        "Case-sensitive"
      ],
      "metadata": {
        "id": "dRnULH2nnW3F"
      }
    },
    {
      "cell_type": "code",
      "source": [
        "a = int(4)\n",
        "A = \"Sally\"\n",
        "a\n",
        "A"
      ],
      "metadata": {
        "colab": {
          "base_uri": "https://localhost:8080/",
          "height": 35
        },
        "id": "2UzTA2k1nYoi",
        "outputId": "8b237edf-7527-41c2-eb3a-f02407c47430"
      },
      "execution_count": null,
      "outputs": [
        {
          "output_type": "execute_result",
          "data": {
            "text/plain": [
              "'Sally'"
            ],
            "application/vnd.google.colaboratory.intrinsic+json": {
              "type": "string"
            }
          },
          "metadata": {},
          "execution_count": 16
        }
      ]
    },
    {
      "cell_type": "markdown",
      "source": [
        "Multiple Variables"
      ],
      "metadata": {
        "id": "OyfRO7g6n8xq"
      }
    },
    {
      "cell_type": "code",
      "source": [
        "h, i, j = \"one\", 'two', \"three\"\n",
        "print(h, i ,j)\n",
        "print(i)\n",
        "print(j)"
      ],
      "metadata": {
        "colab": {
          "base_uri": "https://localhost:8080/"
        },
        "id": "goc2uiXtoBjh",
        "outputId": "b0ef0707-ea08-4803-c491-0df9045ce5a7"
      },
      "execution_count": null,
      "outputs": [
        {
          "output_type": "stream",
          "name": "stdout",
          "text": [
            "one two three\n",
            "two\n",
            "three\n"
          ]
        }
      ]
    },
    {
      "cell_type": "markdown",
      "source": [
        "Multiple Variables with Single Value"
      ],
      "metadata": {
        "id": "fMv1YI9koSKx"
      }
    },
    {
      "cell_type": "code",
      "source": [
        "k = l = m = \"four\"\n",
        "print(k)\n",
        "print(l)\n",
        "print(m)"
      ],
      "metadata": {
        "colab": {
          "base_uri": "https://localhost:8080/"
        },
        "id": "bwlFoBn9oVL9",
        "outputId": "8f26d4d8-695e-4fe8-beba-d3afce410e6f"
      },
      "execution_count": null,
      "outputs": [
        {
          "output_type": "stream",
          "name": "stdout",
          "text": [
            "four\n",
            "four\n",
            "four\n"
          ]
        }
      ]
    },
    {
      "cell_type": "markdown",
      "source": [
        "Output Variable and Concatenation +"
      ],
      "metadata": {
        "id": "EhSCLKajo9Ir"
      }
    },
    {
      "cell_type": "code",
      "source": [
        "n = \"enjoying\"\n",
        "print(\"Python programming is \" + n)"
      ],
      "metadata": {
        "colab": {
          "base_uri": "https://localhost:8080/"
        },
        "id": "VpMMa-RZo_eg",
        "outputId": "824a7998-db94-4194-bc13-1fa51d55ac38"
      },
      "execution_count": null,
      "outputs": [
        {
          "output_type": "stream",
          "name": "stdout",
          "text": [
            "Python programming is enjoying\n"
          ]
        }
      ]
    }
  ]
}